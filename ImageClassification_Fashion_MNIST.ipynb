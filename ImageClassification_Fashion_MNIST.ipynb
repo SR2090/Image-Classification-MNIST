{
  "nbformat": 4,
  "nbformat_minor": 0,
  "metadata": {
    "colab": {
      "name": "ImageClassification_Fashion_MNIST.ipynb",
      "provenance": [],
      "collapsed_sections": [],
      "authorship_tag": "ABX9TyNwnek0cUOrvMXx+Oo290Fd",
      "include_colab_link": true
    },
    "kernelspec": {
      "name": "python3",
      "display_name": "Python 3"
    },
    "accelerator": "GPU"
  },
  "cells": [
    {
      "cell_type": "markdown",
      "metadata": {
        "id": "view-in-github",
        "colab_type": "text"
      },
      "source": [
        "<a href=\"https://colab.research.google.com/github/SR2090/Image-Classification-MNIST/blob/main/ImageClassification_Fashion_MNIST.ipynb\" target=\"_parent\"><img src=\"https://colab.research.google.com/assets/colab-badge.svg\" alt=\"Open In Colab\"/></a>"
      ]
    },
    {
      "cell_type": "markdown",
      "metadata": {
        "id": "dD5LUjXINi-4"
      },
      "source": [
        "\"Hello world\" example in image classification used to be a dataset called MNIST which stood for Modified National Institute of Standards and Technology database.\n",
        "\n",
        "Fashion MNIST the training set consists of 60,000 images and the test set consists of 10,000 images.\n",
        "\n",
        "< Will have to add Image>\n",
        "\n",
        "\n",
        "The dataset has 10 labels assigned to 10 classes\n",
        "\n",
        "< Will have to add image >\n",
        "\n",
        "\n"
      ]
    },
    {
      "cell_type": "markdown",
      "metadata": {
        "id": "SOE793cRN-dr"
      },
      "source": [
        "## 1 .The Model\n",
        "28 x 28 image is reshaped into a single array of size 784. This is done since the input layer is of raw pixel values.\n",
        "\n",
        "We will use a network with 2 hidden layer having 512 neurons each.\n",
        "\n",
        "The output layer will have 10 layers for each of the fashion items."
      ]
    },
    {
      "cell_type": "markdown",
      "metadata": {
        "id": "M5T6PhKPOZUu"
      },
      "source": [
        "## 2. Load the Data\n",
        "The dataset loader is already present in keras, if not present in the computer then it will be downloaded. \n",
        "The data is loaded using the function fashion_mnist.load_data() if not present locally it will download from server.\n",
        "\n",
        "The data is divided into tuples of train set and the test set.\n"
      ]
    },
    {
      "cell_type": "code",
      "metadata": {
        "id": "A8bkC1mmNb3Z",
        "outputId": "a0f750eb-c68b-4e0c-a91c-fda6e0ff586d",
        "colab": {
          "base_uri": "https://localhost:8080/"
        }
      },
      "source": [
        "from tensorflow.keras.datasets import fashion_mnist\n",
        "(train_images, train_labels), (test_images, test_labels) = fashion_mnist.load_data()"
      ],
      "execution_count": 2,
      "outputs": [
        {
          "output_type": "stream",
          "text": [
            "Downloading data from https://storage.googleapis.com/tensorflow/tf-keras-datasets/train-labels-idx1-ubyte.gz\n",
            "32768/29515 [=================================] - 0s 0us/step\n",
            "Downloading data from https://storage.googleapis.com/tensorflow/tf-keras-datasets/train-images-idx3-ubyte.gz\n",
            "26427392/26421880 [==============================] - 0s 0us/step\n",
            "Downloading data from https://storage.googleapis.com/tensorflow/tf-keras-datasets/t10k-labels-idx1-ubyte.gz\n",
            "8192/5148 [===============================================] - 0s 0us/step\n",
            "Downloading data from https://storage.googleapis.com/tensorflow/tf-keras-datasets/t10k-images-idx3-ubyte.gz\n",
            "4423680/4422102 [==============================] - 0s 0us/step\n"
          ],
          "name": "stdout"
        }
      ]
    },
    {
      "cell_type": "markdown",
      "metadata": {
        "id": "qeGpLEW_PrlJ"
      },
      "source": [
        "## 3. Checking out the data\n",
        "Data is 60k images of fashion items along with their ground truth (proper labels). It has 50k images for training, 10k for testing \n",
        "\n",
        "Labels\n",
        "Each training and test example is assigned to one of the following labels:\n",
        "\n",
        "Label Description\n",
        "\n",
        "0 -> T-shirt/top\n",
        "1 -> Trouser\n",
        "2 -> Pullover\n",
        "3 -> Dress\n",
        "4 -> Coat\n",
        "5 -> Sandal\n",
        "6 -> Shirt\n",
        "7 -> Sneaker\n",
        "8 -> Bag\n",
        "9 -> Ankle boot\n",
        "\n"
      ]
    },
    {
      "cell_type": "code",
      "metadata": {
        "id": "QYgyde2qruKH"
      },
      "source": [
        "labelMap = [\"T-shirt/top\",\"Trouser\",\"Pullover\",\"Dress\",\"Coat\",\"Sandal\",\"Shirt\",\"Sneaker\",\"Bag\",\"Ankle boot\"]"
      ],
      "execution_count": 47,
      "outputs": []
    },
    {
      "cell_type": "code",
      "metadata": {
        "id": "zY7HBQBnPpYx",
        "outputId": "c8e49276-4bcd-40cd-c72c-d9091c92674b",
        "colab": {
          "base_uri": "https://localhost:8080/"
        }
      },
      "source": [
        "from tensorflow.keras.utils import to_categorical\n",
        "import matplotlib.pyplot as plt\n",
        "import numpy as np\n",
        "\n",
        "%matplotlib inline\n",
        "\n",
        "print('Training data shape : ', train_images.shape, train_labels.shape)\n",
        " \n",
        "print('Testing data shape : ', test_images.shape, test_labels.shape)"
      ],
      "execution_count": 3,
      "outputs": [
        {
          "output_type": "stream",
          "text": [
            "Training data shape :  (60000, 28, 28) (60000,)\n",
            "Testing data shape :  (10000, 28, 28) (10000,)\n"
          ],
          "name": "stdout"
        }
      ]
    },
    {
      "cell_type": "code",
      "metadata": {
        "id": "FDSLr_uWX1jb",
        "outputId": "304932ed-5462-4539-b526-26ebfa6cf509",
        "colab": {
          "base_uri": "https://localhost:8080/"
        }
      },
      "source": [
        "classes = np.unique(train_labels)\n",
        "nClasses = len(classes)\n",
        "\n",
        "print('Total Number of outputs ', nClasses)\n",
        "print('Output classes : ', classes)"
      ],
      "execution_count": 4,
      "outputs": [
        {
          "output_type": "stream",
          "text": [
            "Total Number of outputs  10\n",
            "Output classes :  [0 1 2 3 4 5 6 7 8 9]\n"
          ],
          "name": "stdout"
        }
      ]
    },
    {
      "cell_type": "code",
      "metadata": {
        "id": "nOoDy4UkYRPb",
        "outputId": "592661bb-2595-44a7-f19b-37722e645075",
        "colab": {
          "base_uri": "https://localhost:8080/",
          "height": 318
        }
      },
      "source": [
        "plt.figure(figsize=[10,5])\n",
        " \n",
        "# Display the 100 image in training data\n",
        "plt.subplot(121)\n",
        "plt.imshow(train_images[100,:,:], cmap='gray')\n",
        "plt.title(\"Ground Truth : {}\".format(train_labels[0]));\n",
        " \n",
        "# Display the 1000 image in testing data\n",
        "plt.subplot(122)\n",
        "plt.imshow(test_images[1000,:,:], cmap='gray')\n",
        "plt.title(\"Ground Truth : {}\".format(test_labels[0]));"
      ],
      "execution_count": 5,
      "outputs": [
        {
          "output_type": "display_data",
          "data": {
            "image/png": "[encoded data removed]",
            "text/plain": [
              "<Figure size 720x360 with 2 Axes>"
            ]
          },
          "metadata": {
            "tags": [],
            "needs_background": "light"
          }
        }
      ]
    },
    {
      "cell_type": "markdown",
      "metadata": {
        "id": "CzHpqCpiYipG"
      },
      "source": [
        "## 4. Process the data\n",
        "Images are grayscale and the pixel values range from 0 to 255\n",
        "\n",
        "- Convert each image matrix ( 28x28 ) = 784\n",
        "- reshape the image into 784,1 vector"
      ]
    },
    {
      "cell_type": "markdown",
      "metadata": {
        "id": "3O0jTJ7XYigx"
      },
      "source": [
        "- Convert data type "
      ]
    },
    {
      "cell_type": "code",
      "metadata": {
        "id": "qyIfeWlDZSVd"
      },
      "source": [
        "# for product of 28 x 28\n",
        "dimData = np.prod(train_images.shape[1:])\n",
        "train_data = train_images.reshape(train_images.shape[0], dimData)\n",
        "test_data = test_images.reshape(test_images.shape[0], dimData)"
      ],
      "execution_count": 6,
      "outputs": []
    },
    {
      "cell_type": "code",
      "metadata": {
        "id": "Mq5NP1AvYXKZ"
      },
      "source": [
        "# Convert data type from int to float32\n",
        "train_data = train_data.astype('float32')\n",
        "test_data = test_data.astype('float32')"
      ],
      "execution_count": 7,
      "outputs": []
    },
    {
      "cell_type": "code",
      "metadata": {
        "id": "SWJYyy2CaQjF"
      },
      "source": [
        "train_data /= 255\n",
        "test_data /= 255"
      ],
      "execution_count": 8,
      "outputs": []
    },
    {
      "cell_type": "markdown",
      "metadata": {
        "id": "-g3-fhdQabFt"
      },
      "source": [
        "## 4.1 Convert the lables into categorical encoding\n",
        "- required by keras for multiclass classification\n",
        "- converts integer value to boolean value (booean representation of integer data)\n",
        "- converts integer to an array of all zeros except 1 at the index of the integer\n",
        "- one hot encoding for 10 classes the integer 5 will be encoded as 0000100000\n",
        "\n"
      ]
    },
    {
      "cell_type": "code",
      "metadata": {
        "id": "h2hQw6V4aVre"
      },
      "source": [
        "train_labels_one_hot = to_categorical(train_labels)\n",
        "test_labels_one_hot = to_categorical(test_labels)"
      ],
      "execution_count": 9,
      "outputs": []
    },
    {
      "cell_type": "code",
      "metadata": {
        "id": "niyX7oapbSSs",
        "outputId": "24ec66a7-7607-4186-bd7d-bd6d5924a0db",
        "colab": {
          "base_uri": "https://localhost:8080/"
        }
      },
      "source": [
        "print('Original Label', train_labels[0], train_labels[1], train_labels[2])\n",
        "print('One hot converted label', train_labels_one_hot[0],train_labels_one_hot[1],train_labels_one_hot[2])"
      ],
      "execution_count": 10,
      "outputs": [
        {
          "output_type": "stream",
          "text": [
            "Original Label 9 0 0\n",
            "One hot converted label [0. 0. 0. 0. 0. 0. 0. 0. 0. 1.] [1. 0. 0. 0. 0. 0. 0. 0. 0. 0.] [1. 0. 0. 0. 0. 0. 0. 0. 0. 0.]\n"
          ],
          "name": "stdout"
        }
      ]
    },
    {
      "cell_type": "markdown",
      "metadata": {
        "id": "S73aPSedcPnV"
      },
      "source": [
        "## 5. Training\n",
        "\n",
        "## 5.1 Creating the network\n",
        "- Sequential modle\n",
        "- will use dense layer(fully connected layer) since we are building a feed forward neural network for image classification\n",
        "- current layer is completely connected to all the neurons in the previous layer\n",
        "- Apart from dense layer we will add ReLu activation function(to get the output) (\"introduce non linearity into the function\")\n",
        "- Non liearity will help the network learn  non linear decision boundaries \n",
        "- In the end we will use softmax layer as it is a multiclass classification problem.\n",
        "- for binary classification use sigmoid"
      ]
    },
    {
      "cell_type": "code",
      "metadata": {
        "id": "x_rrO0hibiuv"
      },
      "source": [
        "from tensorflow.keras.models import Sequential\n",
        "from tensorflow.keras.layers import Dense"
      ],
      "execution_count": 11,
      "outputs": []
    },
    {
      "cell_type": "code",
      "metadata": {
        "id": "pdaTRAzsd-CK",
        "outputId": "f7f087cd-a263-4fb1-e7dd-35571f08b93c",
        "colab": {
          "base_uri": "https://localhost:8080/"
        }
      },
      "source": [
        "print(dimData, (dimData,))"
      ],
      "execution_count": 12,
      "outputs": [
        {
          "output_type": "stream",
          "text": [
            "784 (784,)\n"
          ],
          "name": "stdout"
        }
      ]
    },
    {
      "cell_type": "code",
      "metadata": {
        "id": "fHfqBBinhU6K",
        "outputId": "30784d73-cbc5-43d1-a5dd-b9bbc4d0e7dc",
        "colab": {
          "base_uri": "https://localhost:8080/"
        }
      },
      "source": [
        "nClasses"
      ],
      "execution_count": 21,
      "outputs": [
        {
          "output_type": "execute_result",
          "data": {
            "text/plain": [
              "10"
            ]
          },
          "metadata": {
            "tags": []
          },
          "execution_count": 21
        }
      ]
    },
    {
      "cell_type": "code",
      "metadata": {
        "id": "Qdg5MZujds0z"
      },
      "source": [
        "model = Sequential()\n",
        "# First layer\n",
        "model.add(Dense(512, activation='relu', input_shape = (dimData,)))\n",
        "# Second Hidden layer\n",
        "model.add(Dense(512, activation='relu'))\n",
        "# Output layer\n",
        "model.add(Dense(nClasses, activation='softmax'))"
      ],
      "execution_count": 22,
      "outputs": []
    },
    {
      "cell_type": "markdown",
      "metadata": {
        "id": "qU-Z6S_Sea1n"
      },
      "source": [
        "## 5.2 Model Configuration\n",
        "  - Optimizer : 'rmsprop'\n",
        "  - loss : 'categorical_crossentropy' used for multiclass classification\n",
        "  - metrics ( accuracy in this case ) which we want to track during the training process."
      ]
    },
    {
      "cell_type": "code",
      "metadata": {
        "id": "U0osls3TeR22",
        "outputId": "b3c89349-6e47-44d4-c9c5-78d3f5ae1c9f",
        "colab": {
          "base_uri": "https://localhost:8080/"
        }
      },
      "source": [
        "\n",
        "\n",
        "model.summary()"
      ],
      "execution_count": 23,
      "outputs": [
        {
          "output_type": "stream",
          "text": [
            "Model: \"sequential_1\"\n",
            "_________________________________________________________________\n",
            "Layer (type)                 Output Shape              Param #   \n",
            "=================================================================\n",
            "dense_3 (Dense)              (None, 512)               401920    \n",
            "_________________________________________________________________\n",
            "dense_4 (Dense)              (None, 512)               262656    \n",
            "_________________________________________________________________\n",
            "dense_5 (Dense)              (None, 10)                5130      \n",
            "=================================================================\n",
            "Total params: 669,706\n",
            "Trainable params: 669,706\n",
            "Non-trainable params: 0\n",
            "_________________________________________________________________\n"
          ],
          "name": "stdout"
        }
      ]
    },
    {
      "cell_type": "code",
      "metadata": {
        "id": "Fh_BpC5PgINt"
      },
      "source": [
        "model.compile(optimizer='rmsprop', loss='categorical_crossentropy', metrics=['accuracy'])"
      ],
      "execution_count": 24,
      "outputs": []
    },
    {
      "cell_type": "markdown",
      "metadata": {
        "id": "deXvzptygVYC"
      },
      "source": [
        "## 5.3 Training the model\n",
        "\n",
        " fit() function in Keras\n",
        " number of epochs 20 entire training data will be passed through the model 20 times "
      ]
    },
    {
      "cell_type": "code",
      "metadata": {
        "id": "qAAXFuAkhCQg",
        "outputId": "412c4d55-8324-457a-9020-559f1ca011b5",
        "colab": {
          "base_uri": "https://localhost:8080/"
        }
      },
      "source": [
        "train_data.shape\n",
        "train_labels_one_hot.shape"
      ],
      "execution_count": 25,
      "outputs": [
        {
          "output_type": "execute_result",
          "data": {
            "text/plain": [
              "(60000, 10)"
            ]
          },
          "metadata": {
            "tags": []
          },
          "execution_count": 25
        }
      ]
    },
    {
      "cell_type": "markdown",
      "metadata": {
        "id": "iTGyBZrliL0l"
      },
      "source": [
        "In training neural network we divide the data into training set, test set and validation set. Training set 60% of data, test set 20% of the data and the validation set 20% of the data.\n",
        "\n",
        "We report accuracy using validation set.\n",
        "\n",
        "Validation set is being indirectly used it influences how we set the paramerters. It is not pure and hence we cannot get ourself the final accuracy. hence we have a seperate set called the test set on which we report the accuracy.\n",
        "\n",
        "The first cell shows model generated using the following parameters\n",
        "\n",
        "model.fit(train_data, train_labels_one_hot, batch_size=256, epochs=20, verbose=True, validation_data=(test_data, test_labels_one_hot))"
      ]
    },
    {
      "cell_type": "code",
      "metadata": {
        "id": "0XypOUP0jAJN"
      },
      "source": [
        ""
      ],
      "execution_count": null,
      "outputs": []
    },
    {
      "cell_type": "code",
      "metadata": {
        "id": "d5h1q-2-jAjK"
      },
      "source": [
        "# history_1 = model.fit(train_data, train_labels_one_hot, batch_size=256, epochs=20, verbose=True, validation_data=(test_data, test_labels_one_hot))"
      ],
      "execution_count": 30,
      "outputs": []
    },
    {
      "cell_type": "code",
      "metadata": {
        "id": "TgVgR3-ggNLO",
        "outputId": "b31f076a-6e35-4eeb-f63c-571fcbbbad9b",
        "colab": {
          "base_uri": "https://localhost:8080/"
        }
      },
      "source": [
        "history = model.fit(train_data, train_labels_one_hot, batch_size=32, epochs=10, verbose=True, validation_data=(test_data, test_labels_one_hot))"
      ],
      "execution_count": 36,
      "outputs": [
        {
          "output_type": "stream",
          "text": [
            "Epoch 1/10\n",
            "1875/1875 [==============================] - 6s 3ms/step - loss: 0.2520 - accuracy: 0.9424 - val_loss: 1.8605 - val_accuracy: 0.8840\n",
            "Epoch 2/10\n",
            "1875/1875 [==============================] - 6s 3ms/step - loss: 0.2518 - accuracy: 0.9431 - val_loss: 1.8605 - val_accuracy: 0.8876\n",
            "Epoch 3/10\n",
            "1875/1875 [==============================] - 6s 3ms/step - loss: 0.2501 - accuracy: 0.9444 - val_loss: 1.8444 - val_accuracy: 0.8860\n",
            "Epoch 4/10\n",
            "1875/1875 [==============================] - 6s 3ms/step - loss: 0.2477 - accuracy: 0.9431 - val_loss: 1.8634 - val_accuracy: 0.8885\n",
            "Epoch 5/10\n",
            "1875/1875 [==============================] - 6s 3ms/step - loss: 0.2331 - accuracy: 0.9436 - val_loss: 1.9137 - val_accuracy: 0.8912\n",
            "Epoch 6/10\n",
            "1875/1875 [==============================] - 6s 3ms/step - loss: 0.2399 - accuracy: 0.9464 - val_loss: 2.1406 - val_accuracy: 0.8860\n",
            "Epoch 7/10\n",
            "1875/1875 [==============================] - 6s 3ms/step - loss: 0.2351 - accuracy: 0.9462 - val_loss: 2.3373 - val_accuracy: 0.8788\n",
            "Epoch 8/10\n",
            "1875/1875 [==============================] - 6s 3ms/step - loss: 0.2585 - accuracy: 0.9461 - val_loss: 2.1487 - val_accuracy: 0.8798\n",
            "Epoch 9/10\n",
            "1875/1875 [==============================] - 6s 3ms/step - loss: 0.2285 - accuracy: 0.9471 - val_loss: 2.3130 - val_accuracy: 0.8887\n",
            "Epoch 10/10\n",
            "1875/1875 [==============================] - 6s 3ms/step - loss: 0.2398 - accuracy: 0.9455 - val_loss: 2.2871 - val_accuracy: 0.8887\n"
          ],
          "name": "stdout"
        }
      ]
    },
    {
      "cell_type": "markdown",
      "metadata": {
        "id": "TNdwc00gjo3b"
      },
      "source": [
        "## 5.4 Evaluate the model\n",
        "\n",
        "Check performance on the whole data using using evaluate() method."
      ]
    },
    {
      "cell_type": "code",
      "metadata": {
        "id": "DHgdHA5bgmaG",
        "outputId": "c544a008-60be-4bd0-84f6-0fd7e4188a51",
        "colab": {
          "base_uri": "https://localhost:8080/"
        }
      },
      "source": [
        "[test_loss, test_acc] = model.evaluate(test_data, test_labels_one_hot, verbose=True)"
      ],
      "execution_count": 31,
      "outputs": [
        {
          "output_type": "stream",
          "text": [
            "313/313 [==============================] - 1s 2ms/step - loss: 1.1440 - accuracy: 0.8869\n"
          ],
          "name": "stdout"
        }
      ]
    },
    {
      "cell_type": "code",
      "metadata": {
        "id": "VnEsLq5OkuuA",
        "outputId": "0ede5b8a-aafe-48a5-c1b8-7a7f6bb870eb",
        "colab": {
          "base_uri": "https://localhost:8080/"
        }
      },
      "source": [
        "print(\"Evaluation result on Test Data : Loss = {}, accuracy = {}\".format(test_loss, test_acc))"
      ],
      "execution_count": 32,
      "outputs": [
        {
          "output_type": "stream",
          "text": [
            "Evaluation result on Test Data : Loss = 1.1439570188522339, accuracy = 0.886900007724762\n"
          ],
          "name": "stdout"
        }
      ]
    },
    {
      "cell_type": "markdown",
      "metadata": {
        "id": "9YQHIXOLlkHI"
      },
      "source": [
        "## 6. Testing Overfitting \n",
        "\n",
        "- how do we check if we are overfitting\n",
        "  - loss vs epoch\n",
        "  - by plotting training vs validation loss\n",
        "  - if the training loss doesn't come down then we are going to increase the learning rate\n",
        "  - The validation loss must come down like the training loss \n",
        "  - INCASE OF OVERFITTING\n",
        "    - The validation will not decrease with the epoch \n",
        "    - for accuracy vs epoch the training accuracy will increase as the model is taking into account the extra noise while the validation accuracy will stagnate"
      ]
    },
    {
      "cell_type": "code",
      "metadata": {
        "id": "xAe0YOCEnVks",
        "outputId": "04d9d212-4503-40eb-9853-6df13add5f20",
        "colab": {
          "base_uri": "https://localhost:8080/"
        }
      },
      "source": [
        "# use data in the history object to plot the loss and accuracy of the curve to check how well traing process went.\n",
        "history.history.keys()"
      ],
      "execution_count": 34,
      "outputs": [
        {
          "output_type": "execute_result",
          "data": {
            "text/plain": [
              "dict_keys(['loss', 'accuracy', 'val_loss', 'val_accuracy'])"
            ]
          },
          "metadata": {
            "tags": []
          },
          "execution_count": 34
        }
      ]
    },
    {
      "cell_type": "code",
      "metadata": {
        "id": "n_ChcSBMnyFF",
        "outputId": "70cd3744-09e0-419e-d704-93cbb09daade",
        "colab": {
          "base_uri": "https://localhost:8080/",
          "height": 822
        }
      },
      "source": [
        "# fit function returns a history object which has a dictionary of all \n",
        "# metrics which were required to be tracked during training \n",
        "#Plot the Loss Curves\n",
        "plt.figure(figsize=[8,6])\n",
        "plt.plot(history.history['loss'],'r',linewidth=3.0)\n",
        "plt.plot(history.history['val_loss'],'b',linewidth=3.0)\n",
        "plt.legend(['Training loss', 'Validation Loss'],fontsize=18)\n",
        "plt.xlabel('Epochs ',fontsize=16)\n",
        "plt.ylabel('Loss',fontsize=16)\n",
        "plt.title('Loss Curves',fontsize=16)\n",
        " \n",
        "#Plot the Accuracy Curves\n",
        "plt.figure(figsize=[8,6])\n",
        "plt.plot(history.history['accuracy'],'r',linewidth=3.0)\n",
        "plt.plot(history.history['val_accuracy'],'b',linewidth=3.0)\n",
        "plt.legend(['Training Accuracy', 'Validation Accuracy'],fontsize=18)\n",
        "plt.xlabel('Epochs ',fontsize=16)\n",
        "plt.ylabel('Accuracy',fontsize=16)\n",
        "plt.title('Accuracy Curves',fontsize=16)"
      ],
      "execution_count": 35,
      "outputs": [
        {
          "output_type": "execute_result",
          "data": {
            "text/plain": [
              "Text(0.5, 1.0, 'Accuracy Curves')"
            ]
          },
          "metadata": {
            "tags": []
          },
          "execution_count": 35
        },
        {
          "output_type": "display_data",
          "data": {
            "image/png": "[encoded data removed]",
            "text/plain": [
              "<Figure size 576x432 with 1 Axes>"
            ]
          },
          "metadata": {
            "tags": [],
            "needs_background": "light"
          }
        },
        {
          "output_type": "display_data",
          "data": {
            "image/png": "[encoded data removed]",
            "text/plain": [
              "<Figure size 576x432 with 1 Axes>"
            ]
          },
          "metadata": {
            "tags": [],
            "needs_background": "light"
          }
        }
      ]
    },
    {
      "cell_type": "code",
      "metadata": {
        "id": "1wQl0FWemfZ0"
      },
      "source": [
        ""
      ],
      "execution_count": null,
      "outputs": []
    },
    {
      "cell_type": "markdown",
      "metadata": {
        "id": "KSx78zDInU52"
      },
      "source": [
        ""
      ]
    },
    {
      "cell_type": "markdown",
      "metadata": {
        "id": "PP-WwhpGmerg"
      },
      "source": [
        "## 7. How to deal with Overfitting ?\n",
        "  - Add regularization to the model\n",
        "  - Tell the training process that training data has noice\n",
        "  - Use dropout layer\n",
        "    - This layer will randomly select fraction of neurons and turn them off during an epoch of the training process.\n",
        "    - In case of keras we add a dropout layer right after the fully connected layer\n",
        "\n",
        "\"\n",
        "Overfitting occurs mainly because the network parameters are getting too biased towards the training data. We can add a dropout layer to overcome this problem to a certain extent. In case of dropout, a fraction of neurons is randomly turned off during the training process, reducing the dependency on the training set by some amount.\n",
        "\""
      ]
    },
    {
      "cell_type": "code",
      "metadata": {
        "id": "AcxlfSUDk8Zd"
      },
      "source": [
        "from tensorflow.keras.layers import Dropout\n",
        " \n",
        "model_reg = Sequential()\n",
        "model_reg.add(Dense(512, activation='relu', input_shape=(dimData,)))\n",
        "model_reg.add(Dropout(0.5))\n",
        "model_reg.add(Dense(512, activation='relu'))\n",
        "model_reg.add(Dropout(0.5))\n",
        "model_reg.add(Dense(nClasses, activation='softmax'))"
      ],
      "execution_count": 38,
      "outputs": []
    },
    {
      "cell_type": "markdown",
      "metadata": {
        "id": "KLyCOyPfp1Yo"
      },
      "source": [
        "## 8. Check performance after regularization\n",
        "- We will train the network again in the same way we did earlier and check the loss and accuracy curves.\n"
      ]
    },
    {
      "cell_type": "code",
      "metadata": {
        "id": "0q0YNiSEpjgx",
        "outputId": "ff148113-81cd-4a60-de64-58ca35f23f8e",
        "colab": {
          "base_uri": "https://localhost:8080/"
        }
      },
      "source": [
        "model_reg.compile(optimizer='rmsprop', loss='categorical_crossentropy', metrics=['accuracy'])\n",
        "# To see detail output, change verbose to True\n",
        "history_reg = model_reg.fit(train_data, train_labels_one_hot, batch_size=256, epochs=20, verbose=True, \n",
        "                            validation_data=(test_data, test_labels_one_hot))"
      ],
      "execution_count": 44,
      "outputs": [
        {
          "output_type": "stream",
          "text": [
            "Epoch 1/20\n",
            "235/235 [==============================] - 1s 4ms/step - loss: 0.7926 - accuracy: 0.8025 - val_loss: 0.7498 - val_accuracy: 0.8440\n",
            "Epoch 2/20\n",
            "235/235 [==============================] - 1s 4ms/step - loss: 0.6799 - accuracy: 0.8148 - val_loss: 0.7217 - val_accuracy: 0.8522\n",
            "Epoch 3/20\n",
            "235/235 [==============================] - 1s 4ms/step - loss: 0.6439 - accuracy: 0.8216 - val_loss: 0.7184 - val_accuracy: 0.8491\n",
            "Epoch 4/20\n",
            "235/235 [==============================] - 1s 4ms/step - loss: 0.6357 - accuracy: 0.8202 - val_loss: 0.7415 - val_accuracy: 0.8488\n",
            "Epoch 5/20\n",
            "235/235 [==============================] - 1s 4ms/step - loss: 0.6119 - accuracy: 0.8266 - val_loss: 0.7160 - val_accuracy: 0.8467\n",
            "Epoch 6/20\n",
            "235/235 [==============================] - 1s 4ms/step - loss: 0.5948 - accuracy: 0.8311 - val_loss: 0.7377 - val_accuracy: 0.8575\n",
            "Epoch 7/20\n",
            "235/235 [==============================] - 1s 4ms/step - loss: 0.5958 - accuracy: 0.8317 - val_loss: 0.7160 - val_accuracy: 0.8583\n",
            "Epoch 8/20\n",
            "235/235 [==============================] - 1s 4ms/step - loss: 0.5822 - accuracy: 0.8327 - val_loss: 0.7241 - val_accuracy: 0.8605\n",
            "Epoch 9/20\n",
            "235/235 [==============================] - 1s 4ms/step - loss: 0.5879 - accuracy: 0.8369 - val_loss: 0.7531 - val_accuracy: 0.8535\n",
            "Epoch 10/20\n",
            "235/235 [==============================] - 1s 4ms/step - loss: 0.5736 - accuracy: 0.8385 - val_loss: 0.7142 - val_accuracy: 0.8630\n",
            "Epoch 11/20\n",
            "235/235 [==============================] - 1s 4ms/step - loss: 0.5610 - accuracy: 0.8397 - val_loss: 0.7500 - val_accuracy: 0.8646\n",
            "Epoch 12/20\n",
            "235/235 [==============================] - 1s 4ms/step - loss: 0.5605 - accuracy: 0.8414 - val_loss: 0.7176 - val_accuracy: 0.8594\n",
            "Epoch 13/20\n",
            "235/235 [==============================] - 1s 4ms/step - loss: 0.5610 - accuracy: 0.8407 - val_loss: 0.6995 - val_accuracy: 0.8525\n",
            "Epoch 14/20\n",
            "235/235 [==============================] - 1s 4ms/step - loss: 0.5584 - accuracy: 0.8432 - val_loss: 0.7081 - val_accuracy: 0.8602\n",
            "Epoch 15/20\n",
            "235/235 [==============================] - 1s 4ms/step - loss: 0.5402 - accuracy: 0.8457 - val_loss: 0.7257 - val_accuracy: 0.8655\n",
            "Epoch 16/20\n",
            "235/235 [==============================] - 1s 4ms/step - loss: 0.5382 - accuracy: 0.8439 - val_loss: 0.7088 - val_accuracy: 0.8632\n",
            "Epoch 17/20\n",
            "235/235 [==============================] - 1s 4ms/step - loss: 0.5180 - accuracy: 0.8484 - val_loss: 0.6928 - val_accuracy: 0.8646\n",
            "Epoch 18/20\n",
            "235/235 [==============================] - 1s 4ms/step - loss: 0.5126 - accuracy: 0.8502 - val_loss: 0.7268 - val_accuracy: 0.8581\n",
            "Epoch 19/20\n",
            "235/235 [==============================] - 1s 4ms/step - loss: 0.5126 - accuracy: 0.8499 - val_loss: 0.7462 - val_accuracy: 0.8591\n",
            "Epoch 20/20\n",
            "235/235 [==============================] - 1s 4ms/step - loss: 0.5016 - accuracy: 0.8529 - val_loss: 0.7939 - val_accuracy: 0.8584\n"
          ],
          "name": "stdout"
        }
      ]
    },
    {
      "cell_type": "code",
      "metadata": {
        "id": "gOLCeZT1qHM4",
        "outputId": "b419e204-4617-42be-e79a-f2202bcd00dd",
        "colab": {
          "base_uri": "https://localhost:8080/",
          "height": 822
        }
      },
      "source": [
        "#Plot the Loss Curves\n",
        "plt.figure(figsize=[8,6])\n",
        "plt.plot(history_reg.history['loss'],'r',linewidth=3.0)\n",
        "plt.plot(history_reg.history['val_loss'],'b',linewidth=3.0)\n",
        "plt.legend(['Training loss', 'Validation Loss'],fontsize=18)\n",
        "plt.xlabel('Epochs ',fontsize=16)\n",
        "plt.ylabel('Loss',fontsize=16)\n",
        "plt.title('Loss Curves',fontsize=16)\n",
        " \n",
        "#Plot the Accuracy Curves\n",
        "plt.figure(figsize=[8,6])\n",
        "plt.plot(history_reg.history['accuracy'],'r',linewidth=3.0)\n",
        "plt.plot(history_reg.history['val_accuracy'],'b',linewidth=3.0)\n",
        "plt.legend(['Training Accuracy', 'Validation Accuracy'],fontsize=18)\n",
        "plt.xlabel('Epochs ',fontsize=16)\n",
        "plt.ylabel('Accuracy',fontsize=16)\n",
        "plt.title('Accuracy Curves',fontsize=16)"
      ],
      "execution_count": 45,
      "outputs": [
        {
          "output_type": "execute_result",
          "data": {
            "text/plain": [
              "Text(0.5, 1.0, 'Accuracy Curves')"
            ]
          },
          "metadata": {
            "tags": []
          },
          "execution_count": 45
        },
        {
          "output_type": "display_data",
          "data": {
            "image/png": "[encoded data removed]",
            "text/plain": [
              "<Figure size 576x432 with 1 Axes>"
            ]
          },
          "metadata": {
            "tags": [],
            "needs_background": "light"
          }
        },
        {
          "output_type": "display_data",
          "data": {
            "image/png": "[encoded data removed]",
            "text/plain": [
              "<Figure size 576x432 with 1 Axes>"
            ]
          },
          "metadata": {
            "tags": [],
            "needs_background": "light"
          }
        }
      ]
    },
    {
      "cell_type": "markdown",
      "metadata": {
        "id": "kPeap9z8qNTQ"
      },
      "source": [
        "## 9. Drawing inference on a single image"
      ]
    },
    {
      "cell_type": "code",
      "metadata": {
        "id": "FxSSQlS3qP0-",
        "outputId": "7a328da0-6100-43d6-bed2-f76d01ac6484",
        "colab": {
          "base_uri": "https://localhost:8080/",
          "height": 282
        }
      },
      "source": [
        "testSample = test_images[9673,:,:]\n",
        "plt.imshow(testSample)"
      ],
      "execution_count": 40,
      "outputs": [
        {
          "output_type": "execute_result",
          "data": {
            "text/plain": [
              "<matplotlib.image.AxesImage at 0x7f62a0954978>"
            ]
          },
          "metadata": {
            "tags": []
          },
          "execution_count": 40
        },
        {
          "output_type": "display_data",
          "data": {
            "image/png": "[encoded data removed]",
            "text/plain": [
              "<Figure size 432x288 with 1 Axes>"
            ]
          },
          "metadata": {
            "tags": [],
            "needs_background": "light"
          }
        }
      ]
    },
    {
      "cell_type": "markdown",
      "metadata": {
        "id": "u-Te4mFBqrhU"
      },
      "source": [
        "## 9.1 Get predicted class\n",
        "## 9.2 Get probabilities"
      ]
    },
    {
      "cell_type": "code",
      "metadata": {
        "id": "bNVVIhlLq28g",
        "outputId": "c8f56ab5-b6ad-4d85-adb1-1fc02543642c",
        "colab": {
          "base_uri": "https://localhost:8080/"
        }
      },
      "source": [
        "# 9.1\n",
        "# Predict the Class\n",
        "# Predict the most likely class\n",
        "label = model_reg.predict_classes(test_data[[9673],:])[0]\n",
        "print(\"Label = {}, Item = {}\".format(label,labelMap[label]))"
      ],
      "execution_count": 50,
      "outputs": [
        {
          "output_type": "stream",
          "text": [
            "Label = 8, Item = Bag\n"
          ],
          "name": "stdout"
        }
      ]
    },
    {
      "cell_type": "code",
      "metadata": {
        "id": "bYn0q4syqUpb",
        "outputId": "8f957f01-7f63-423c-dac1-2e874420a60d",
        "colab": {
          "base_uri": "https://localhost:8080/"
        }
      },
      "source": [
        "# 9.2\n",
        "# Predict the probabilities for each class \n",
        "prob = model_reg.predict(test_data[[9673],:])\n",
        "labelProb = prob[0][label]\n",
        "print(\"Probability = {:.3f}\".format(labelProb))"
      ],
      "execution_count": 52,
      "outputs": [
        {
          "output_type": "stream",
          "text": [
            "Probability = 0.998\n"
          ],
          "name": "stdout"
        }
      ]
    },
    {
      "cell_type": "code",
      "metadata": {
        "id": "LoUG1aIwr9-S",
        "outputId": "13ca31e9-d2a5-49d9-fe61-a299876c80d9",
        "colab": {
          "base_uri": "https://localhost:8080/",
          "height": 70
        }
      },
      "source": [
        "plt.imshow(test_data[[9673],:])"
      ],
      "execution_count": 63,
      "outputs": [
        {
          "output_type": "execute_result",
          "data": {
            "text/plain": [
              "<matplotlib.image.AxesImage at 0x7f629d09ce80>"
            ]
          },
          "metadata": {
            "tags": []
          },
          "execution_count": 63
        },
        {
          "output_type": "display_data",
          "data": {
            "image/png": "[encoded data removed]",
            "text/plain": [
              "<Figure size 432x288 with 1 Axes>"
            ]
          },
          "metadata": {
            "tags": [],
            "needs_background": "light"
          }
        }
      ]
    },
    {
      "cell_type": "code",
      "metadata": {
        "id": "yupX3Q6usFC3"
      },
      "source": [
        ""
      ],
      "execution_count": null,
      "outputs": []
    }
  ]
}